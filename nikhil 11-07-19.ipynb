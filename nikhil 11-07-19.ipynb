{
 "cells": [
  {
   "cell_type": "markdown",
   "metadata": {},
   "source": [
    "### standard libraies\n",
    "- file I/O\n",
    "- reguler expression\n",
    "- datetime\n",
    "- math (numerical and mathmatical)"
   ]
  },
  {
   "cell_type": "markdown",
   "metadata": {},
   "source": [
    "### file handling in python\n",
    "- file:- doucument containing information resides on the permanenet storage\n",
    "- different types of file :- txt,doc,pdf,csv,and etc...\n",
    "- input -- keybord\n",
    "- output -- file\n",
    "### modes of the file I/O\n",
    "- 'w' -- this mode is used to file writing\n",
    "      -- if the file is not present first it create the file and write so me data to it\n",
    "      "
   ]
  },
  {
   "cell_type": "code",
   "execution_count": 1,
   "metadata": {},
   "outputs": [],
   "source": [
    "# function to create a file and write to the file\n",
    "def createfile(filename):\n",
    "    f = open(filename,'w')\n",
    "    for i in range(10):\n",
    "        f.write('this is %d line\\n' % i)\n",
    "        print(\"file is created and data has written\")\n",
    "        return\n",
    "    createfile('file1.txt')"
   ]
  },
  {
   "cell_type": "code",
   "execution_count": 2,
   "metadata": {},
   "outputs": [
    {
     "name": "stdout",
     "output_type": "stream",
     "text": [
      " Volume in drive C has no label.\n",
      " Volume Serial Number is FA55-CC6E\n",
      "\n",
      " Directory of C:\\Users\\student\n",
      "\n",
      "11-07-2019  10:23    <DIR>          .\n",
      "11-07-2019  10:23    <DIR>          ..\n",
      "21-06-2019  14:24    <DIR>          .anaconda\n",
      "19-06-2019  15:42               100 .bash_history\n",
      "22-06-2019  13:35    <DIR>          .conda\n",
      "29-06-2019  09:26                43 .condarc\n",
      "29-06-2019  10:33    <DIR>          .idlerc\n",
      "11-07-2019  09:07    <DIR>          .ipynb_checkpoints\n",
      "21-06-2019  14:25    <DIR>          .ipython\n",
      "21-06-2019  17:24    <DIR>          .jupyter\n",
      "28-06-2019  15:51    <DIR>          .matplotlib\n",
      "29-06-2019  11:56    <DIR>          221810304015\n",
      "21-06-2019  14:21    <DIR>          Anaconda3\n",
      "10-07-2019  15:05             2,592 assignment 10-07-19.ipynb\n",
      "09-07-2019  17:04             1,416 assignment 9-07-19.ipynb\n",
      "16-06-2019  20:41    <DIR>          Contacts\n",
      "10-07-2019  10:49    <DIR>          Desktop\n",
      "10-07-2019  17:01    <DIR>          Documents\n",
      "10-07-2019  16:43    <DIR>          Downloads\n",
      "16-06-2019  20:42    <DIR>          Favorites\n",
      "11-07-2019  09:52                12 file1.txt\n",
      "11-07-2019  10:06                42 file2.txt\n",
      "16-06-2019  20:41    <DIR>          Links\n",
      "16-06-2019  20:41    <DIR>          Music\n",
      "10-07-2019  16:09            13,615 nikhil 10-07-19.ipynb\n",
      "11-07-2019  10:23             9,470 nikhil 11-07-19.ipynb\n",
      "08-07-2019  15:57            10,208 nikhil 8-07-19.ipynb\n",
      "09-07-2019  15:49            12,498 nikhil 9-07-19.ipynb\n",
      "06-07-2019  10:39             2,889 nikhild.ipynb\n",
      "16-06-2019  20:41    <DIR>          Pictures\n",
      "16-06-2019  20:41    <DIR>          Saved Games\n",
      "05-07-2019  14:06    <DIR>          Searches\n",
      "21-06-2019  14:45             1,125 Untitled.ipynb\n",
      "28-06-2019  14:13                72 Untitled1.ipynb\n",
      "16-06-2019  20:41    <DIR>          Videos\n",
      "              13 File(s)         54,082 bytes\n",
      "              22 Dir(s)  74,826,625,024 bytes free\n"
     ]
    }
   ],
   "source": [
    "ls"
   ]
  },
  {
   "cell_type": "code",
   "execution_count": 3,
   "metadata": {},
   "outputs": [
    {
     "name": "stdout",
     "output_type": "stream",
     "text": [
      "file is created and data has written\n"
     ]
    }
   ],
   "source": [
    "def createfile(filename):\n",
    "    f = open(filename,'w')\n",
    "    f.write('testing...\\n')\n",
    "    print(\"file is created and data has written\")\n",
    "    return\n",
    "createfile('file1.txt')"
   ]
  },
  {
   "cell_type": "code",
   "execution_count": 4,
   "metadata": {},
   "outputs": [
    {
     "name": "stdout",
     "output_type": "stream",
     "text": [
      " Volume in drive C has no label.\n",
      " Volume Serial Number is FA55-CC6E\n",
      "\n",
      " Directory of C:\\Users\\student\n",
      "\n",
      "11-07-2019  10:23    <DIR>          .\n",
      "11-07-2019  10:23    <DIR>          ..\n",
      "21-06-2019  14:24    <DIR>          .anaconda\n",
      "19-06-2019  15:42               100 .bash_history\n",
      "22-06-2019  13:35    <DIR>          .conda\n",
      "29-06-2019  09:26                43 .condarc\n",
      "29-06-2019  10:33    <DIR>          .idlerc\n",
      "11-07-2019  09:07    <DIR>          .ipynb_checkpoints\n",
      "21-06-2019  14:25    <DIR>          .ipython\n",
      "21-06-2019  17:24    <DIR>          .jupyter\n",
      "28-06-2019  15:51    <DIR>          .matplotlib\n",
      "29-06-2019  11:56    <DIR>          221810304015\n",
      "21-06-2019  14:21    <DIR>          Anaconda3\n",
      "10-07-2019  15:05             2,592 assignment 10-07-19.ipynb\n",
      "09-07-2019  17:04             1,416 assignment 9-07-19.ipynb\n",
      "16-06-2019  20:41    <DIR>          Contacts\n",
      "10-07-2019  10:49    <DIR>          Desktop\n",
      "10-07-2019  17:01    <DIR>          Documents\n",
      "10-07-2019  16:43    <DIR>          Downloads\n",
      "16-06-2019  20:42    <DIR>          Favorites\n",
      "11-07-2019  10:23                12 file1.txt\n",
      "11-07-2019  10:06                42 file2.txt\n",
      "16-06-2019  20:41    <DIR>          Links\n",
      "16-06-2019  20:41    <DIR>          Music\n",
      "10-07-2019  16:09            13,615 nikhil 10-07-19.ipynb\n",
      "11-07-2019  10:23             9,470 nikhil 11-07-19.ipynb\n",
      "08-07-2019  15:57            10,208 nikhil 8-07-19.ipynb\n",
      "09-07-2019  15:49            12,498 nikhil 9-07-19.ipynb\n",
      "06-07-2019  10:39             2,889 nikhild.ipynb\n",
      "16-06-2019  20:41    <DIR>          Pictures\n",
      "16-06-2019  20:41    <DIR>          Saved Games\n",
      "05-07-2019  14:06    <DIR>          Searches\n",
      "21-06-2019  14:45             1,125 Untitled.ipynb\n",
      "28-06-2019  14:13                72 Untitled1.ipynb\n",
      "16-06-2019  20:41    <DIR>          Videos\n",
      "              13 File(s)         54,082 bytes\n",
      "              22 Dir(s)  74,826,625,024 bytes free\n"
     ]
    }
   ],
   "source": [
    "ls"
   ]
  },
  {
   "cell_type": "code",
   "execution_count": 5,
   "metadata": {},
   "outputs": [
    {
     "name": "stdout",
     "output_type": "stream",
     "text": [
      "file created and successfully data written\n"
     ]
    }
   ],
   "source": [
    "def appenddata(filename):\n",
    "    f=open(filename,'a')\n",
    "    for i in range(10):\n",
    "        f.write(\"this is %d line\\n\" %i)\n",
    "        print(\"file created and successfully data written\")\n",
    "        return\n",
    "appenddata('file2.txt')"
   ]
  },
  {
   "cell_type": "code",
   "execution_count": 6,
   "metadata": {},
   "outputs": [
    {
     "name": "stdout",
     "output_type": "stream",
     "text": [
      "file created and successfully data written\n"
     ]
    }
   ],
   "source": [
    "def appenddata(filename):\n",
    "    f = open(filename,'a')\n",
    "    f.write(\"New Line 1 \\n\")\n",
    "    f.write(\"New Line 2 \\n\") \n",
    "    print(\"file created and successfully data written\")\n",
    "    return\n",
    "appenddata('file2.txt')"
   ]
  },
  {
   "cell_type": "code",
   "execution_count": 7,
   "metadata": {},
   "outputs": [
    {
     "name": "stdout",
     "output_type": "stream",
     "text": [
      "this is 0 line\n",
      "New Line 1 \n",
      "New Line 2 \n",
      "this is 0 line\n",
      "New Line 1 \n",
      "New Line 2 \n",
      "\n"
     ]
    }
   ],
   "source": [
    "# function to read of the file\n",
    "def readfiledata(filename):\n",
    "    f = open(filename,'r')\n",
    "    if f.mode == 'r' :\n",
    "        x = f.read()\n",
    "        print(x)\n",
    "    f.close()\n",
    "    return\n",
    "readfiledata('file2.txt')"
   ]
  },
  {
   "cell_type": "code",
   "execution_count": 8,
   "metadata": {},
   "outputs": [
    {
     "name": "stdout",
     "output_type": "stream",
     "text": [
      "enter the file namedata\n",
      "enter the mode of the filea\n",
      "the data successfilly written\n"
     ]
    }
   ],
   "source": [
    "# function to read the file\n",
    "def fileopretions(filename,mode):\n",
    "    with open(filename,mode) as f:\n",
    "        if f.mode == 'r' :\n",
    "            data = f.read()\n",
    "            print(data)\n",
    "        elif f.mode == 'a':\n",
    "            f.write('data to the file')\n",
    "            print('the data successfilly written')\n",
    "    f.close()\n",
    "    return\n",
    "filename = input('enter the file name')\n",
    "mode = input('enter the mode of the file')\n",
    "fileopretions(filename,mode)"
   ]
  },
  {
   "cell_type": "code",
   "execution_count": 10,
   "metadata": {},
   "outputs": [
    {
     "name": "stdout",
     "output_type": "stream",
     "text": [
      "enter the file name :file2.txt\n",
      "enter the word :this\n"
     ]
    },
    {
     "data": {
      "text/plain": [
       "2"
      ]
     },
     "execution_count": 10,
     "metadata": {},
     "output_type": "execute_result"
    }
   ],
   "source": [
    "# data analysis\n",
    "# word count program\n",
    "def wordcount(filename,word):\n",
    "    with open(filename,'r') as f:\n",
    "        if f.mode == 'r':\n",
    "            x = f.read()\n",
    "            li = x.split()\n",
    "    cnt = li.count(word)\n",
    "    return cnt\n",
    "filename = input('enter the file name :')\n",
    "word = input('enter the word :')\n",
    "wordcount(filename,word)"
   ]
  },
  {
   "cell_type": "code",
   "execution_count": 11,
   "metadata": {},
   "outputs": [
    {
     "name": "stdout",
     "output_type": "stream",
     "text": [
      "enter the filename :file2.txt\n"
     ]
    },
    {
     "data": {
      "text/plain": [
       "78"
      ]
     },
     "execution_count": 11,
     "metadata": {},
     "output_type": "execute_result"
    }
   ],
   "source": [
    "# character count from the given file \n",
    "def charcount(filename):\n",
    "    with open(filename,'r') as f:\n",
    "        if f.mode == 'r':\n",
    "            x = f.read()\n",
    "            li = list(x)\n",
    "    return len(li)\n",
    "filename = input('enter the filename :')\n",
    "charcount(filename)\n"
   ]
  },
  {
   "cell_type": "code",
   "execution_count": 13,
   "metadata": {},
   "outputs": [
    {
     "name": "stdout",
     "output_type": "stream",
     "text": [
      "['python progr', 'mming']\n"
     ]
    }
   ],
   "source": [
    "s1 = \"python programming\"\n",
    "print(s1.split('a'))"
   ]
  },
  {
   "cell_type": "code",
   "execution_count": 14,
   "metadata": {},
   "outputs": [
    {
     "name": "stdout",
     "output_type": "stream",
     "text": [
      "enter the filename : file2.txt\n"
     ]
    },
    {
     "data": {
      "text/plain": [
       "7"
      ]
     },
     "execution_count": 14,
     "metadata": {},
     "output_type": "execute_result"
    }
   ],
   "source": [
    "# function to find the no of lines in the input file\n",
    "# input -- filename(file2.txt)\n",
    "# output -- no of lines(12)\n",
    "def  countoflines(filename):\n",
    "    with open(filename,'r') as f:\n",
    "        if f.mode ==  'r':\n",
    "            x = f.read()\n",
    "            li = x.split(\"\\n\")\n",
    "    return len(li)\n",
    "filename = input('enter the filename : ')\n",
    "countoflines(filename)"
   ]
  },
  {
   "cell_type": "code",
   "execution_count": 18,
   "metadata": {},
   "outputs": [
    {
     "name": "stdout",
     "output_type": "stream",
     "text": [
      "enter the filename :file2.txt\n"
     ]
    },
    {
     "data": {
      "text/plain": [
       "'upper case = 8 , lower case = 40'"
      ]
     },
     "execution_count": 18,
     "metadata": {},
     "output_type": "execute_result"
    }
   ],
   "source": [
    "# function to print the upper and lower characterrs\n",
    "def casecount(filename):\n",
    "    cntupper = 0\n",
    "    cntlower = 0\n",
    "    with open(filename,'r') as f:\n",
    "        if f.mode == 'r':\n",
    "            x = f.read()\n",
    "            li = list(x)\n",
    "    for i in li:\n",
    "        if i.isupper():\n",
    "            cntupper += 1\n",
    "        elif i.islower():\n",
    "            cntlower += 1\n",
    "    output = 'upper case = {0} , lower case = {1}'.format(cntupper,cntlower)\n",
    "    return output\n",
    "filename = input('enter the filename :')\n",
    "casecount(filename)"
   ]
  },
  {
   "cell_type": "markdown",
   "metadata": {},
   "source": [
    "### math, random, os\n",
    "- os package it contains the cratian kind of methods which works the os"
   ]
  },
  {
   "cell_type": "code",
   "execution_count": 22,
   "metadata": {},
   "outputs": [
    {
     "name": "stdout",
     "output_type": "stream",
     "text": [
      " Volume in drive C has no label.\n",
      " Volume Serial Number is FA55-CC6E\n",
      "\n",
      " Directory of C:\\Users\\student\n",
      "\n",
      "11-07-2019  12:33    <DIR>          .\n",
      "11-07-2019  12:33    <DIR>          ..\n",
      "21-06-2019  14:24    <DIR>          .anaconda\n",
      "19-06-2019  15:42               100 .bash_history\n",
      "22-06-2019  13:35    <DIR>          .conda\n",
      "29-06-2019  09:26                43 .condarc\n",
      "29-06-2019  10:33    <DIR>          .idlerc\n",
      "11-07-2019  09:07    <DIR>          .ipynb_checkpoints\n",
      "21-06-2019  14:25    <DIR>          .ipython\n",
      "21-06-2019  17:24    <DIR>          .jupyter\n",
      "28-06-2019  15:51    <DIR>          .matplotlib\n",
      "29-06-2019  11:56    <DIR>          221810304015\n",
      "21-06-2019  14:21    <DIR>          Anaconda3\n",
      "10-07-2019  15:05             2,592 assignment 10-07-19.ipynb\n",
      "09-07-2019  17:04             1,416 assignment 9-07-19.ipynb\n",
      "16-06-2019  20:41    <DIR>          Contacts\n",
      "11-07-2019  10:23                16 data\n",
      "10-07-2019  10:49    <DIR>          Desktop\n",
      "10-07-2019  17:01    <DIR>          Documents\n",
      "10-07-2019  16:43    <DIR>          Downloads\n",
      "16-06-2019  20:42    <DIR>          Favorites\n",
      "11-07-2019  10:23                12 file1.txt\n",
      "11-07-2019  10:23                84 file2.txt\n",
      "16-06-2019  20:41    <DIR>          Links\n",
      "16-06-2019  20:41    <DIR>          Music\n",
      "10-07-2019  16:09            13,615 nikhil 10-07-19.ipynb\n",
      "11-07-2019  12:33            14,296 nikhil 11-07-19.ipynb\n",
      "08-07-2019  15:57            10,208 nikhil 8-07-19.ipynb\n",
      "09-07-2019  15:49            12,498 nikhil 9-07-19.ipynb\n",
      "06-07-2019  10:39             2,889 nikhild.ipynb\n",
      "16-06-2019  20:41    <DIR>          Pictures\n",
      "16-06-2019  20:41    <DIR>          Saved Games\n",
      "05-07-2019  14:06    <DIR>          Searches\n",
      "21-06-2019  14:45             1,125 Untitled.ipynb\n",
      "28-06-2019  14:13                72 Untitled1.ipynb\n",
      "16-06-2019  20:41    <DIR>          Videos\n",
      "              14 File(s)         58,966 bytes\n",
      "              22 Dir(s)  74,804,154,368 bytes free\n"
     ]
    }
   ],
   "source": [
    "ls"
   ]
  },
  {
   "cell_type": "code",
   "execution_count": 2,
   "metadata": {},
   "outputs": [
    {
     "name": "stdout",
     "output_type": "stream",
     "text": [
      "C:\\Users\n"
     ]
    }
   ],
   "source": [
    "cd ..."
   ]
  },
  {
   "cell_type": "code",
   "execution_count": 4,
   "metadata": {},
   "outputs": [
    {
     "data": {
      "text/plain": [
       "['.anaconda',\n",
       " '.bash_history',\n",
       " '.conda',\n",
       " '.condarc',\n",
       " '.idlerc',\n",
       " '.ipynb_checkpoints',\n",
       " '.ipython',\n",
       " '.jupyter',\n",
       " '.matplotlib',\n",
       " '221810304015',\n",
       " 'Anaconda3',\n",
       " 'AppData',\n",
       " 'Application Data',\n",
       " 'assignment 10-07-19.ipynb',\n",
       " 'assignment 9-07-19.ipynb',\n",
       " 'Contacts',\n",
       " 'Cookies',\n",
       " 'data',\n",
       " 'Desktop',\n",
       " 'Documents',\n",
       " 'Downloads',\n",
       " 'Favorites',\n",
       " 'file1.txt',\n",
       " 'file2.txt',\n",
       " 'Links',\n",
       " 'Local Settings',\n",
       " 'Music',\n",
       " 'My Documents',\n",
       " 'NetHood',\n",
       " 'nikhil 10-07-19.ipynb',\n",
       " 'nikhil 11-07-19.ipynb',\n",
       " 'nikhil 8-07-19.ipynb',\n",
       " 'nikhil 9-07-19.ipynb',\n",
       " 'nikhild.ipynb',\n",
       " 'NTUSER.DAT',\n",
       " 'ntuser.dat.LOG1',\n",
       " 'ntuser.dat.LOG2',\n",
       " 'NTUSER.DAT{6cced2f1-6e01-11de-8bed-001e0bcd1824}.TM.blf',\n",
       " 'NTUSER.DAT{6cced2f1-6e01-11de-8bed-001e0bcd1824}.TMContainer00000000000000000001.regtrans-ms',\n",
       " 'NTUSER.DAT{6cced2f1-6e01-11de-8bed-001e0bcd1824}.TMContainer00000000000000000002.regtrans-ms',\n",
       " 'ntuser.ini',\n",
       " 'Pictures',\n",
       " 'PrintHood',\n",
       " 'Recent',\n",
       " 'Saved Games',\n",
       " 'Searches',\n",
       " 'SendTo',\n",
       " 'Start Menu',\n",
       " 'Templates',\n",
       " 'Untitled.ipynb',\n",
       " 'Untitled1.ipynb',\n",
       " 'Videos']"
      ]
     },
     "execution_count": 4,
     "metadata": {},
     "output_type": "execute_result"
    }
   ],
   "source": [
    "import os\n",
    "os.listdir('student') # listdir() -- ls"
   ]
  },
  {
   "cell_type": "code",
   "execution_count": 6,
   "metadata": {},
   "outputs": [
    {
     "name": "stdout",
     "output_type": "stream",
     "text": [
      ".anaconda\n",
      ".bash_history\n",
      ".conda\n",
      ".condarc\n",
      ".idlerc\n",
      ".ipynb_checkpoints\n",
      ".ipython\n",
      ".jupyter\n",
      ".matplotlib\n",
      "221810304015\n",
      "Anaconda3\n",
      "AppData\n",
      "Application Data\n",
      "assignment 10-07-19.ipynb\n",
      "assignment 9-07-19.ipynb\n",
      "Contacts\n",
      "Cookies\n",
      "data\n",
      "Desktop\n",
      "Documents\n",
      "Downloads\n",
      "Favorites\n",
      "file1.txt\n",
      "file2.txt\n",
      "Links\n",
      "Local Settings\n",
      "Music\n",
      "My Documents\n",
      "NetHood\n",
      "nikhil 10-07-19.ipynb\n",
      "nikhil 11-07-19.ipynb\n",
      "nikhil 8-07-19.ipynb\n",
      "nikhil 9-07-19.ipynb\n",
      "nikhild.ipynb\n",
      "NTUSER.DAT\n",
      "ntuser.dat.LOG1\n",
      "ntuser.dat.LOG2\n",
      "NTUSER.DAT{6cced2f1-6e01-11de-8bed-001e0bcd1824}.TM.blf\n",
      "NTUSER.DAT{6cced2f1-6e01-11de-8bed-001e0bcd1824}.TMContainer00000000000000000001.regtrans-ms\n",
      "NTUSER.DAT{6cced2f1-6e01-11de-8bed-001e0bcd1824}.TMContainer00000000000000000002.regtrans-ms\n",
      "ntuser.ini\n",
      "Pictures\n",
      "PrintHood\n",
      "Recent\n",
      "Saved Games\n",
      "Searches\n",
      "SendTo\n",
      "Start Menu\n",
      "Templates\n",
      "Untitled.ipynb\n",
      "Untitled1.ipynb\n",
      "Videos\n"
     ]
    }
   ],
   "source": [
    "li = os.listdir('student/')\n",
    "for i in li:\n",
    "    print(i)"
   ]
  },
  {
   "cell_type": "markdown",
   "metadata": {},
   "source": [
    "- older version python -- os.listdir()\n",
    "- new version python -- os.scandir() and pathlib.path()"
   ]
  },
  {
   "cell_type": "code",
   "execution_count": 9,
   "metadata": {},
   "outputs": [
    {
     "name": "stdout",
     "output_type": "stream",
     "text": [
      "<DirEntry '.anaconda'>\n",
      "<DirEntry '.bash_history'>\n",
      "<DirEntry '.conda'>\n",
      "<DirEntry '.condarc'>\n",
      "<DirEntry '.idlerc'>\n",
      "<DirEntry '.ipynb_checkpoints'>\n",
      "<DirEntry '.ipython'>\n",
      "<DirEntry '.jupyter'>\n",
      "<DirEntry '.matplotlib'>\n",
      "<DirEntry '221810304015'>\n",
      "<DirEntry 'Anaconda3'>\n",
      "<DirEntry 'AppData'>\n",
      "<DirEntry 'Application Data'>\n",
      "<DirEntry 'assignment 10-07-19.ipynb'>\n",
      "<DirEntry 'assignment 9-07-19.ipynb'>\n",
      "<DirEntry 'Contacts'>\n",
      "<DirEntry 'Cookies'>\n",
      "<DirEntry 'data'>\n",
      "<DirEntry 'Desktop'>\n",
      "<DirEntry 'Documents'>\n",
      "<DirEntry 'Downloads'>\n",
      "<DirEntry 'Favorites'>\n",
      "<DirEntry 'file1.txt'>\n",
      "<DirEntry 'file2.txt'>\n",
      "<DirEntry 'Links'>\n",
      "<DirEntry 'Local Settings'>\n",
      "<DirEntry 'Music'>\n",
      "<DirEntry 'My Documents'>\n",
      "<DirEntry 'NetHood'>\n",
      "<DirEntry 'nikhil 10-07-19.ipynb'>\n",
      "<DirEntry 'nikhil 11-07-19.ipynb'>\n",
      "<DirEntry 'nikhil 8-07-19.ipynb'>\n",
      "<DirEntry 'nikhil 9-07-19.ipynb'>\n",
      "<DirEntry 'nikhild.ipynb'>\n",
      "<DirEntry 'NTUSER.DAT'>\n",
      "<DirEntry 'ntuser.dat.LOG1'>\n",
      "<DirEntry 'ntuser.dat.LOG2'>\n",
      "<DirEntry 'NTUSER.DAT{6cced2f1-6e01-11de-8bed-001e0bcd1824}.TM.blf'>\n",
      "<DirEntry 'NTUSER.DAT{6cced2f1-6e01-11de-8bed-001e0bcd1824}.TMContainer00000000000000000001.regtrans-ms'>\n",
      "<DirEntry 'NTUSER.DAT{6cced2f1-6e01-11de-8bed-001e0bcd1824}.TMContainer00000000000000000002.regtrans-ms'>\n",
      "<DirEntry 'ntuser.ini'>\n",
      "<DirEntry 'Pictures'>\n",
      "<DirEntry 'PrintHood'>\n",
      "<DirEntry 'Recent'>\n",
      "<DirEntry 'Saved Games'>\n",
      "<DirEntry 'Searches'>\n",
      "<DirEntry 'SendTo'>\n",
      "<DirEntry 'Start Menu'>\n",
      "<DirEntry 'Templates'>\n",
      "<DirEntry 'Untitled.ipynb'>\n",
      "<DirEntry 'Untitled1.ipynb'>\n",
      "<DirEntry 'Videos'>\n"
     ]
    }
   ],
   "source": [
    "li = os.scandir('student/')\n",
    "for i in li:\n",
    "    print(i)"
   ]
  },
  {
   "cell_type": "code",
   "execution_count": 10,
   "metadata": {},
   "outputs": [
    {
     "ename": "ImportError",
     "evalue": "cannot import name 'path' from 'pathlib' (C:\\Users\\student\\Anaconda3\\lib\\pathlib.py)",
     "output_type": "error",
     "traceback": [
      "\u001b[1;31m---------------------------------------------------------------------------\u001b[0m",
      "\u001b[1;31mImportError\u001b[0m                               Traceback (most recent call last)",
      "\u001b[1;32m<ipython-input-10-179db09c011a>\u001b[0m in \u001b[0;36m<module>\u001b[1;34m\u001b[0m\n\u001b[1;32m----> 1\u001b[1;33m \u001b[1;32mfrom\u001b[0m \u001b[0mpathlib\u001b[0m \u001b[1;32mimport\u001b[0m \u001b[0mpath\u001b[0m\u001b[1;33m\u001b[0m\u001b[1;33m\u001b[0m\u001b[0m\n\u001b[0m\u001b[0;32m      2\u001b[0m \u001b[0mli\u001b[0m \u001b[1;33m=\u001b[0m \u001b[0mpath\u001b[0m\u001b[1;33m(\u001b[0m\u001b[1;34m'student/'\u001b[0m\u001b[1;33m)\u001b[0m\u001b[1;33m\u001b[0m\u001b[1;33m\u001b[0m\u001b[0m\n\u001b[0;32m      3\u001b[0m \u001b[1;32mfor\u001b[0m \u001b[0mi\u001b[0m \u001b[1;32min\u001b[0m \u001b[0mli\u001b[0m\u001b[1;33m.\u001b[0m\u001b[0miterdir\u001b[0m\u001b[1;33m(\u001b[0m\u001b[1;33m)\u001b[0m\u001b[1;33m:\u001b[0m\u001b[1;33m\u001b[0m\u001b[1;33m\u001b[0m\u001b[0m\n\u001b[0;32m      4\u001b[0m     \u001b[0mprint\u001b[0m\u001b[1;33m(\u001b[0m\u001b[0mi\u001b[0m\u001b[1;33m.\u001b[0m\u001b[0mname\u001b[0m\u001b[1;33m)\u001b[0m\u001b[1;33m\u001b[0m\u001b[1;33m\u001b[0m\u001b[0m\n",
      "\u001b[1;31mImportError\u001b[0m: cannot import name 'path' from 'pathlib' (C:\\Users\\student\\Anaconda3\\lib\\pathlib.py)"
     ]
    }
   ],
   "source": [
    "from pathlib import path\n",
    "li = path('student/')\n",
    "for i in li.iterdir():\n",
    "    print(i.name)"
   ]
  },
  {
   "cell_type": "code",
   "execution_count": null,
   "metadata": {},
   "outputs": [],
   "source": []
  }
 ],
 "metadata": {
  "kernelspec": {
   "display_name": "Python 3",
   "language": "python",
   "name": "python3"
  },
  "language_info": {
   "codemirror_mode": {
    "name": "ipython",
    "version": 3
   },
   "file_extension": ".py",
   "mimetype": "text/x-python",
   "name": "python",
   "nbconvert_exporter": "python",
   "pygments_lexer": "ipython3",
   "version": "3.7.3"
  }
 },
 "nbformat": 4,
 "nbformat_minor": 2
}
